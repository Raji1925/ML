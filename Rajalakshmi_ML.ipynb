{
 "cells": [
  {
   "cell_type": "code",
   "execution_count": 9,
   "id": "06e2f705",
   "metadata": {},
   "outputs": [
    {
     "name": "stdout",
     "output_type": "stream",
     "text": [
      "Accuracy: 0.956386292834891\n",
      "              precision    recall  f1-score   support\n",
      "\n",
      "         0.0       0.97      0.98      0.98      3197\n",
      "         1.0       0.82      0.69      0.75       334\n",
      "\n",
      "    accuracy                           0.96      3531\n",
      "   macro avg       0.89      0.84      0.86      3531\n",
      "weighted avg       0.95      0.96      0.95      3531\n",
      "\n"
     ]
    }
   ],
   "source": [
    "# Step 1: Data Preprocessing\n",
    "import pandas as pd\n",
    "import numpy as np\n",
    "\n",
    "# Load the datasets\n",
    "data1 = pd.read_csv('train.csv')\n",
    "data2 = pd.read_csv('test.csv')\n",
    "\n",
    "# Combine the datasets\n",
    "combined_data = pd.concat([data1,data2])\n",
    "\n",
    "# Handle missing values if any\n",
    "combined_data.dropna(inplace=True)\n",
    "\n",
    "# Encode categorical variables\n",
    "combined_data = pd.get_dummies(combined_data, columns=['student_country'])\n",
    "\n",
    "# Step 2: Feature Engineering\n",
    "#  Average minutes watched per day\n",
    "combined_data['avg_minutes_watched_per_day'] = combined_data['minutes_watched'] / combined_data['days_on_platform']\n",
    "\n",
    "# Handle large or infinite values\n",
    "combined_data[numerical_cols] = combined_data[numerical_cols].replace([np.inf, -np.inf], np.nan)\n",
    "combined_data[numerical_cols] = combined_data[numerical_cols].fillna(combined_data[numerical_cols].mean())\n",
    "\n",
    "# Standardize numerical features\n",
    "from sklearn.preprocessing import StandardScaler\n",
    "\n",
    "scaler = StandardScaler()\n",
    "numerical_cols = ['days_on_platform', 'minutes_watched', 'courses_started', \n",
    "                  'practice_exams_started', 'practice_exams_passed', \n",
    "                  'minutes_spent_on_exams', 'avg_minutes_watched_per_day']\n",
    "combined_data[numerical_cols] = scaler.fit_transform(combined_data[numerical_cols])\n",
    "\n",
    "# Step 3: Split Data\n",
    "from sklearn.model_selection import train_test_split\n",
    "\n",
    "X = combined_data.drop('purchased', axis=1)\n",
    "y = combined_data['purchased']\n",
    "X_train, X_test, y_train, y_test = train_test_split(X, y, test_size=0.2, random_state=42)\n",
    "\n",
    "# Step 4: Model Selection\n",
    "from sklearn.ensemble import RandomForestClassifier\n",
    "\n",
    "model = RandomForestClassifier()\n",
    "\n",
    "# Step 5: Model Training\n",
    "model.fit(X_train, y_train)\n",
    "\n",
    "# Step 6: Model Evaluation\n",
    "from sklearn.metrics import accuracy_score, classification_report\n",
    "\n",
    "y_pred = model.predict(X_test)\n",
    "accuracy = accuracy_score(y_test, y_pred)\n",
    "print(\"Accuracy:\", accuracy)\n",
    "\n",
    "# Classification report\n",
    "print(classification_report(y_test, y_pred))\n"
   ]
  },
  {
   "cell_type": "code",
   "execution_count": null,
   "id": "5dba69dd",
   "metadata": {},
   "outputs": [],
   "source": []
  }
 ],
 "metadata": {
  "kernelspec": {
   "display_name": "Python 3 (ipykernel)",
   "language": "python",
   "name": "python3"
  },
  "language_info": {
   "codemirror_mode": {
    "name": "ipython",
    "version": 3
   },
   "file_extension": ".py",
   "mimetype": "text/x-python",
   "name": "python",
   "nbconvert_exporter": "python",
   "pygments_lexer": "ipython3",
   "version": "3.10.9"
  }
 },
 "nbformat": 4,
 "nbformat_minor": 5
}
